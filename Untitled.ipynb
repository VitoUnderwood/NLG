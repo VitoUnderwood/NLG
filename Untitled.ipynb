{
 "cells": [
  {
   "cell_type": "code",
   "execution_count": 1,
   "metadata": {},
   "outputs": [
    {
     "name": "stdout",
     "output_type": "stream",
     "text": [
      "Package                            Version\r\n",
      "---------------------------------- -------------------\r\n",
      "alabaster                          0.7.12\r\n",
      "anaconda-client                    1.7.2\r\n",
      "anaconda-navigator                 1.10.0\r\n",
      "anaconda-project                   0.8.3\r\n",
      "applaunchservices                  0.2.1\r\n",
      "appnope                            0.1.0\r\n",
      "appscript                          1.1.1\r\n",
      "argh                               0.26.2\r\n",
      "argon2-cffi                        20.1.0\r\n",
      "asn1crypto                         1.4.0\r\n",
      "astroid                            2.4.2\r\n",
      "astropy                            4.0.2\r\n",
      "async-generator                    1.10\r\n",
      "atomicwrites                       1.4.0\r\n",
      "attrs                              20.3.0\r\n",
      "autopep8                           1.5.4\r\n",
      "Babel                              2.8.1\r\n",
      "backcall                           0.2.0\r\n",
      "backports.functools-lru-cache      1.6.1\r\n",
      "backports.shutil-get-terminal-size 1.0.0\r\n",
      "backports.tempfile                 1.0\r\n",
      "backports.weakref                  1.0.post1\r\n",
      "beautifulsoup4                     4.9.3\r\n",
      "bitarray                           1.6.1\r\n",
      "bkcharts                           0.2\r\n",
      "bleach                             3.2.1\r\n",
      "bokeh                              2.2.3\r\n",
      "boto                               2.49.0\r\n",
      "Bottleneck                         1.3.2\r\n",
      "brotlipy                           0.7.0\r\n",
      "certifi                            2020.12.5\r\n",
      "cffi                               1.14.3\r\n",
      "chardet                            4.0.0\r\n",
      "click                              7.1.2\r\n",
      "cloudpickle                        1.6.0\r\n",
      "clyent                             1.2.2\r\n",
      "colorama                           0.4.4\r\n",
      "conda                              4.9.2\r\n",
      "conda-build                        3.20.5\r\n",
      "conda-package-handling             1.7.2\r\n",
      "conda-verify                       3.4.2\r\n",
      "contextlib2                        0.6.0.post1\r\n",
      "cryptography                       3.1.1\r\n",
      "cycler                             0.10.0\r\n",
      "Cython                             0.29.21\r\n",
      "cytoolz                            0.11.0\r\n",
      "dask                               2.30.0\r\n",
      "decorator                          4.4.2\r\n",
      "defusedxml                         0.6.0\r\n",
      "diff-match-patch                   20200713\r\n",
      "distributed                        2.30.1\r\n",
      "docutils                           0.16\r\n",
      "entrypoints                        0.3\r\n",
      "et-xmlfile                         1.0.1\r\n",
      "fastcache                          1.1.0\r\n",
      "filelock                           3.0.12\r\n",
      "flake8                             3.8.4\r\n",
      "Flask                              1.1.2\r\n",
      "fsspec                             0.8.3\r\n",
      "future                             0.18.2\r\n",
      "gevent                             20.9.0\r\n",
      "glob2                              0.7\r\n",
      "gmpy2                              2.0.8\r\n",
      "greenlet                           0.4.17\r\n",
      "h5py                               2.10.0\r\n",
      "HeapDict                           1.0.1\r\n",
      "html5lib                           1.1\r\n",
      "idna                               2.10\r\n",
      "imageio                            2.9.0\r\n",
      "imagesize                          1.2.0\r\n",
      "importlib-metadata                 2.0.0\r\n",
      "iniconfig                          1.1.1\r\n",
      "intervaltree                       3.1.0\r\n",
      "ipykernel                          5.3.4\r\n",
      "ipython                            7.19.0\r\n",
      "ipython-genutils                   0.2.0\r\n",
      "ipywidgets                         7.5.1\r\n",
      "isort                              5.6.4\r\n",
      "itsdangerous                       1.1.0\r\n",
      "jdcal                              1.4.1\r\n",
      "jedi                               0.17.1\r\n",
      "Jinja2                             2.11.2\r\n",
      "joblib                             1.0.1\r\n",
      "json5                              0.9.5\r\n",
      "jsonschema                         3.2.0\r\n",
      "jupyter                            1.0.0\r\n",
      "jupyter-client                     6.1.7\r\n",
      "jupyter-console                    6.2.0\r\n",
      "jupyter-core                       4.6.3\r\n",
      "jupyterlab                         2.2.6\r\n",
      "jupyterlab-pygments                0.1.2\r\n",
      "jupyterlab-server                  1.2.0\r\n",
      "keyring                            21.4.0\r\n",
      "kiwisolver                         1.3.0\r\n",
      "lazy-object-proxy                  1.4.3\r\n",
      "libarchive-c                       2.9\r\n",
      "llvmlite                           0.34.0\r\n",
      "locket                             0.2.0\r\n",
      "lxml                               4.6.1\r\n",
      "MarkupSafe                         1.1.1\r\n",
      "matplotlib                         3.3.2\r\n",
      "mccabe                             0.6.1\r\n",
      "mistune                            0.8.4\r\n",
      "mkl-fft                            1.2.0\r\n",
      "mkl-random                         1.1.1\r\n",
      "mkl-service                        2.3.0\r\n",
      "mock                               4.0.2\r\n",
      "more-itertools                     8.6.0\r\n",
      "mpmath                             1.1.0\r\n",
      "msgpack                            1.0.0\r\n",
      "multipledispatch                   0.6.0\r\n",
      "navigator-updater                  0.2.1\r\n",
      "nbclient                           0.5.1\r\n",
      "nbconvert                          6.0.7\r\n",
      "nbformat                           5.0.8\r\n",
      "nest-asyncio                       1.4.2\r\n",
      "networkx                           2.5\r\n",
      "nltk                               3.5\r\n",
      "nose                               1.3.7\r\n",
      "notebook                           6.1.4\r\n",
      "numba                              0.51.2\r\n",
      "numexpr                            2.7.1\r\n",
      "numpy                              1.20.1\r\n",
      "numpydoc                           1.1.0\r\n",
      "olefile                            0.46\r\n",
      "openpyxl                           3.0.5\r\n",
      "packaging                          20.9\r\n",
      "pandas                             1.2.2\r\n",
      "pandocfilters                      1.4.3\r\n",
      "parso                              0.7.0\r\n",
      "partd                              1.1.0\r\n",
      "path                               15.0.0\r\n",
      "pathlib2                           2.3.5\r\n",
      "pathtools                          0.1.2\r\n",
      "patsy                              0.5.1\r\n",
      "pep8                               1.7.1\r\n",
      "pexpect                            4.8.0\r\n",
      "pickleshare                        0.7.5\r\n",
      "Pillow                             8.1.0\r\n",
      "pip                                20.2.4\r\n",
      "pkginfo                            1.6.1\r\n",
      "pluggy                             0.13.1\r\n",
      "ply                                3.11\r\n",
      "prometheus-client                  0.8.0\r\n",
      "prompt-toolkit                     3.0.8\r\n",
      "psutil                             5.7.2\r\n",
      "ptyprocess                         0.6.0\r\n",
      "py                                 1.9.0\r\n",
      "pycodestyle                        2.6.0\r\n",
      "pycosat                            0.6.3\r\n",
      "pycparser                          2.20\r\n",
      "pycurl                             7.43.0.6\r\n",
      "pydocstyle                         5.1.1\r\n",
      "pyflakes                           2.2.0\r\n",
      "Pygments                           2.7.2\r\n",
      "pylint                             2.6.0\r\n",
      "pyodbc                             4.0.0-unsupported\r\n",
      "pyOpenSSL                          19.1.0\r\n",
      "pyparsing                          2.4.7\r\n",
      "pyrsistent                         0.17.3\r\n",
      "PySocks                            1.7.1\r\n",
      "pytest                             0.0.0\r\n",
      "python-dateutil                    2.8.1\r\n",
      "python-jsonrpc-server              0.4.0\r\n",
      "python-language-server             0.35.1\r\n",
      "pytz                               2021.1\r\n",
      "PyWavelets                         1.1.1\r\n",
      "PyYAML                             5.3.1\r\n",
      "pyzmq                              19.0.2\r\n",
      "QDarkStyle                         2.8.1\r\n",
      "QtAwesome                          1.0.1\r\n",
      "qtconsole                          4.7.7\r\n",
      "QtPy                               1.9.0\r\n",
      "regex                              2020.11.13\r\n",
      "requests                           2.25.1\r\n",
      "rope                               0.18.0\r\n",
      "Rtree                              0.9.4\r\n",
      "ruamel-yaml                        0.15.87\r\n",
      "sacremoses                         0.0.43\r\n",
      "scikit-image                       0.17.2\r\n",
      "scikit-learn                       0.23.2\r\n",
      "scipy                              1.5.2\r\n",
      "seaborn                            0.11.0\r\n",
      "Send2Trash                         1.5.0\r\n",
      "setuptools                         50.3.1.post20201107\r\n",
      "simplegeneric                      0.8.1\r\n",
      "singledispatch                     3.4.0.3\r\n",
      "six                                1.15.0\r\n",
      "snowballstemmer                    2.0.0\r\n",
      "sortedcollections                  1.2.1\r\n",
      "sortedcontainers                   2.2.2\r\n",
      "soupsieve                          2.0.1\r\n",
      "Sphinx                             3.2.1\r\n",
      "sphinxcontrib-applehelp            1.0.2\r\n",
      "sphinxcontrib-devhelp              1.0.2\r\n",
      "sphinxcontrib-htmlhelp             1.0.3\r\n",
      "sphinxcontrib-jsmath               1.0.1\r\n",
      "sphinxcontrib-qthelp               1.0.3\r\n",
      "sphinxcontrib-serializinghtml      1.1.4\r\n",
      "sphinxcontrib-websupport           1.2.4\r\n",
      "spyder                             4.1.5\r\n",
      "spyder-kernels                     1.9.4\r\n",
      "SQLAlchemy                         1.3.20\r\n",
      "statsmodels                        0.12.0\r\n",
      "sympy                              1.6.2\r\n",
      "tables                             3.6.1\r\n",
      "tblib                              1.7.0\r\n",
      "terminado                          0.9.1\r\n",
      "testpath                           0.4.4\r\n",
      "threadpoolctl                      2.1.0\r\n",
      "tifffile                           2020.10.1\r\n",
      "tokenizers                         0.10.1\r\n",
      "toml                               0.10.1\r\n",
      "toolz                              0.11.1\r\n",
      "torch                              1.7.1\r\n",
      "torchaudio                         0.7.2\r\n",
      "torchvision                        0.8.2\r\n",
      "tornado                            6.0.4\r\n",
      "tqdm                               4.56.2\r\n",
      "traitlets                          5.0.5\r\n",
      "transformers                       4.3.2\r\n",
      "typing-extensions                  3.7.4.3\r\n",
      "ujson                              4.0.1\r\n",
      "unicodecsv                         0.14.1\r\n",
      "urllib3                            1.26.3\r\n",
      "watchdog                           0.10.3\r\n",
      "wcwidth                            0.2.5\r\n",
      "webencodings                       0.5.1\r\n",
      "Werkzeug                           1.0.1\r\n",
      "wheel                              0.35.1\r\n",
      "widgetsnbextension                 3.5.1\r\n",
      "wrapt                              1.11.2\r\n",
      "wurlitzer                          2.0.1\r\n",
      "xlrd                               1.2.0\r\n",
      "XlsxWriter                         1.3.7\r\n",
      "xlwings                            0.20.8\r\n",
      "xlwt                               1.3.0\r\n",
      "xmltodict                          0.12.0\r\n",
      "yapf                               0.30.0\r\n",
      "zict                               2.0.0\r\n",
      "zipp                               3.4.0\r\n",
      "zope.event                         4.5.0\r\n",
      "zope.interface                     5.1.2\r\n"
     ]
    }
   ],
   "source": [
    "! pip list"
   ]
  },
  {
   "cell_type": "code",
   "execution_count": 2,
   "metadata": {},
   "outputs": [
    {
     "data": {
      "application/vnd.jupyter.widget-view+json": {
       "model_id": "6f2fbaa66e5740e6a7eb370b7b1ae7bb",
       "version_major": 2,
       "version_minor": 0
      },
      "text/plain": [
       "Downloading:   0%|          | 0.00/1.04M [00:00<?, ?B/s]"
      ]
     },
     "metadata": {},
     "output_type": "display_data"
    },
    {
     "data": {
      "application/vnd.jupyter.widget-view+json": {
       "model_id": "a314c52c5eb349529a5d4a5a04e43d48",
       "version_major": 2,
       "version_minor": 0
      },
      "text/plain": [
       "Downloading:   0%|          | 0.00/456k [00:00<?, ?B/s]"
      ]
     },
     "metadata": {},
     "output_type": "display_data"
    },
    {
     "data": {
      "application/vnd.jupyter.widget-view+json": {
       "model_id": "bedb0eed62044a318262f82de5afe179",
       "version_major": 2,
       "version_minor": 0
      },
      "text/plain": [
       "Downloading:   0%|          | 0.00/665 [00:00<?, ?B/s]"
      ]
     },
     "metadata": {},
     "output_type": "display_data"
    },
    {
     "data": {
      "application/vnd.jupyter.widget-view+json": {
       "model_id": "4cd5fafc72974acda6f11d36f6c2077d",
       "version_major": 2,
       "version_minor": 0
      },
      "text/plain": [
       "Downloading:   0%|          | 0.00/548M [00:00<?, ?B/s]"
      ]
     },
     "metadata": {},
     "output_type": "display_data"
    },
    {
     "name": "stdout",
     "output_type": "stream",
     "text": [
      "0\n"
     ]
    },
    {
     "ename": "TypeError",
     "evalue": "forward() got an unexpected keyword argument 'past'",
     "output_type": "error",
     "traceback": [
      "\u001b[0;31m---------------------------------------------------------------------------\u001b[0m",
      "\u001b[0;31mTypeError\u001b[0m                                 Traceback (most recent call last)",
      "\u001b[0;32m<ipython-input-2-35c9e86a1a1d>\u001b[0m in \u001b[0;36m<module>\u001b[0;34m\u001b[0m\n\u001b[1;32m     11\u001b[0m \u001b[0;32mfor\u001b[0m \u001b[0mi\u001b[0m \u001b[0;32min\u001b[0m \u001b[0mrange\u001b[0m\u001b[0;34m(\u001b[0m\u001b[0;36m100\u001b[0m\u001b[0;34m)\u001b[0m\u001b[0;34m:\u001b[0m\u001b[0;34m\u001b[0m\u001b[0;34m\u001b[0m\u001b[0m\n\u001b[1;32m     12\u001b[0m     \u001b[0mprint\u001b[0m\u001b[0;34m(\u001b[0m\u001b[0mi\u001b[0m\u001b[0;34m)\u001b[0m\u001b[0;34m\u001b[0m\u001b[0;34m\u001b[0m\u001b[0m\n\u001b[0;32m---> 13\u001b[0;31m     \u001b[0moutput\u001b[0m\u001b[0;34m,\u001b[0m \u001b[0mpast\u001b[0m \u001b[0;34m=\u001b[0m \u001b[0mmodel\u001b[0m\u001b[0;34m(\u001b[0m\u001b[0mcontext\u001b[0m\u001b[0;34m,\u001b[0m \u001b[0mpast\u001b[0m\u001b[0;34m=\u001b[0m\u001b[0mpast\u001b[0m\u001b[0;34m)\u001b[0m\u001b[0;34m\u001b[0m\u001b[0;34m\u001b[0m\u001b[0m\n\u001b[0m\u001b[1;32m     14\u001b[0m     \u001b[0mtoken\u001b[0m \u001b[0;34m=\u001b[0m \u001b[0mtorch\u001b[0m\u001b[0;34m.\u001b[0m\u001b[0margmax\u001b[0m\u001b[0;34m(\u001b[0m\u001b[0moutput\u001b[0m\u001b[0;34m[\u001b[0m\u001b[0;34m...\u001b[0m\u001b[0;34m,\u001b[0m \u001b[0;34m-\u001b[0m\u001b[0;36m1\u001b[0m\u001b[0;34m,\u001b[0m \u001b[0;34m:\u001b[0m\u001b[0;34m]\u001b[0m\u001b[0;34m)\u001b[0m\u001b[0;34m\u001b[0m\u001b[0;34m\u001b[0m\u001b[0m\n\u001b[1;32m     15\u001b[0m \u001b[0;34m\u001b[0m\u001b[0m\n",
      "\u001b[0;32m~/opt/anaconda3/lib/python3.8/site-packages/torch/nn/modules/module.py\u001b[0m in \u001b[0;36m_call_impl\u001b[0;34m(self, *input, **kwargs)\u001b[0m\n\u001b[1;32m    725\u001b[0m             \u001b[0mresult\u001b[0m \u001b[0;34m=\u001b[0m \u001b[0mself\u001b[0m\u001b[0;34m.\u001b[0m\u001b[0m_slow_forward\u001b[0m\u001b[0;34m(\u001b[0m\u001b[0;34m*\u001b[0m\u001b[0minput\u001b[0m\u001b[0;34m,\u001b[0m \u001b[0;34m**\u001b[0m\u001b[0mkwargs\u001b[0m\u001b[0;34m)\u001b[0m\u001b[0;34m\u001b[0m\u001b[0;34m\u001b[0m\u001b[0m\n\u001b[1;32m    726\u001b[0m         \u001b[0;32melse\u001b[0m\u001b[0;34m:\u001b[0m\u001b[0;34m\u001b[0m\u001b[0;34m\u001b[0m\u001b[0m\n\u001b[0;32m--> 727\u001b[0;31m             \u001b[0mresult\u001b[0m \u001b[0;34m=\u001b[0m \u001b[0mself\u001b[0m\u001b[0;34m.\u001b[0m\u001b[0mforward\u001b[0m\u001b[0;34m(\u001b[0m\u001b[0;34m*\u001b[0m\u001b[0minput\u001b[0m\u001b[0;34m,\u001b[0m \u001b[0;34m**\u001b[0m\u001b[0mkwargs\u001b[0m\u001b[0;34m)\u001b[0m\u001b[0;34m\u001b[0m\u001b[0;34m\u001b[0m\u001b[0m\n\u001b[0m\u001b[1;32m    728\u001b[0m         for hook in itertools.chain(\n\u001b[1;32m    729\u001b[0m                 \u001b[0m_global_forward_hooks\u001b[0m\u001b[0;34m.\u001b[0m\u001b[0mvalues\u001b[0m\u001b[0;34m(\u001b[0m\u001b[0;34m)\u001b[0m\u001b[0;34m,\u001b[0m\u001b[0;34m\u001b[0m\u001b[0;34m\u001b[0m\u001b[0m\n",
      "\u001b[0;31mTypeError\u001b[0m: forward() got an unexpected keyword argument 'past'"
     ]
    }
   ],
   "source": [
    "from transformers import GPT2LMHeadModel, GPT2Tokenizer\n",
    "import torch\n",
    "\n",
    "tokenizer = GPT2Tokenizer.from_pretrained(\"gpt2\")\n",
    "model = GPT2LMHeadModel.from_pretrained('gpt2')"
   ]
  },
  {
   "cell_type": "code",
   "execution_count": 30,
   "metadata": {
    "scrolled": true
   },
   "outputs": [
    {
     "name": "stdout",
     "output_type": "stream",
     "text": [
      "The Manhattan bridge is a major artery for the city's subway system, and the bridge is one of the busiest in the country.\n",
      "\n",
      "The bridge is one of the busiest in the country.\n",
      "\n",
      "The bridge is one of the busiest in the country.\n",
      "\n",
      "The bridge is one of the busiest in the country.\n",
      "\n",
      "The bridge is one of the busiest in the country.\n",
      "\n",
      "The bridge is one of the busiest in the country.\n",
      "\n",
      "The bridge is one of the busiest in the country\n"
     ]
    }
   ],
   "source": [
    "generated = tokenizer.encode(\"The Manhattan bridge\")\n",
    "context = torch.tensor([generated])\n",
    "past = None\n",
    "\n",
    "for i in range(100):\n",
    "    output = model(context, past_key_values=past)\n",
    "    token = torch.argmax(output[0][..., -1, :])\n",
    "    past = output[1]\n",
    "    generated += [token.tolist()]\n",
    "    context = token.unsqueeze(0)\n",
    "\n",
    "sequence = tokenizer.decode(generated)\n",
    "\n",
    "print(sequence)"
   ]
  },
  {
   "cell_type": "code",
   "execution_count": 6,
   "metadata": {},
   "outputs": [],
   "source": [
    "generated = tokenizer.encode(\"The Manhattan bridge\")\n",
    "context = torch.tensor([generated])"
   ]
  },
  {
   "cell_type": "code",
   "execution_count": 17,
   "metadata": {},
   "outputs": [],
   "source": [
    "output = model(context)"
   ]
  },
  {
   "cell_type": "code",
   "execution_count": 26,
   "metadata": {},
   "outputs": [
    {
     "data": {
      "text/plain": [
       "tensor(318)"
      ]
     },
     "execution_count": 26,
     "metadata": {},
     "output_type": "execute_result"
    }
   ],
   "source": [
    "torch.argmax(output[0][..., -1, :])"
   ]
  },
  {
   "cell_type": "code",
   "execution_count": 32,
   "metadata": {},
   "outputs": [
    {
     "data": {
      "text/plain": [
       "odict_keys(['logits', 'past_key_values'])"
      ]
     },
     "execution_count": 32,
     "metadata": {},
     "output_type": "execute_result"
    }
   ],
   "source": [
    "output.keys()"
   ]
  },
  {
   "cell_type": "code",
   "execution_count": 33,
   "metadata": {
    "scrolled": true
   },
   "outputs": [
    {
     "name": "stdout",
     "output_type": "stream",
     "text": [
      "Name: transformers\n",
      "Version: 4.3.2\n",
      "Summary: State-of-the-art Natural Language Processing for TensorFlow 2.0 and PyTorch\n",
      "Home-page: https://github.com/huggingface/transformers\n",
      "Author: Thomas Wolf, Lysandre Debut, Victor Sanh, Julien Chaumond, Sam Shleifer, Patrick von Platen, Sylvain Gugger, Google AI Language Team Authors, Open AI team Authors, Facebook AI Authors, Carnegie Mellon University Authors\n",
      "Author-email: thomas@huggingface.co\n",
      "License: Apache\n",
      "Location: /Users/vito/opt/anaconda3/lib/python3.8/site-packages\n",
      "Requires: filelock, tqdm, tokenizers, packaging, sacremoses, requests, numpy, regex\n",
      "Required-by: \n"
     ]
    }
   ],
   "source": [
    "! pip show transformers"
   ]
  },
  {
   "cell_type": "code",
   "execution_count": 34,
   "metadata": {},
   "outputs": [
    {
     "data": {
      "text/plain": [
       "['The', 'ĠManhattan', 'Ġbridge']"
      ]
     },
     "execution_count": 34,
     "metadata": {},
     "output_type": "execute_result"
    }
   ],
   "source": [
    "tokenizer.tokenize(\"The Manhattan bridge\")"
   ]
  },
  {
   "cell_type": "code",
   "execution_count": 35,
   "metadata": {},
   "outputs": [
    {
     "data": {
      "text/plain": [
       "['ä½', 'ł', 'å¥', '½']"
      ]
     },
     "execution_count": 35,
     "metadata": {},
     "output_type": "execute_result"
    }
   ],
   "source": [
    "tokenizer.tokenize(\"你好\")"
   ]
  },
  {
   "cell_type": "code",
   "execution_count": 38,
   "metadata": {},
   "outputs": [
    {
     "data": {
      "text/plain": [
       "50257"
      ]
     },
     "execution_count": 38,
     "metadata": {},
     "output_type": "execute_result"
    }
   ],
   "source": [
    "tokenizer."
   ]
  },
  {
   "cell_type": "code",
   "execution_count": 41,
   "metadata": {},
   "outputs": [],
   "source": [
    "from transformers import BertTokenizer"
   ]
  },
  {
   "cell_type": "code",
   "execution_count": 42,
   "metadata": {},
   "outputs": [
    {
     "name": "stderr",
     "output_type": "stream",
     "text": [
      "Calling BertTokenizer.from_pretrained() with the path to a single file or url is deprecated\n"
     ]
    }
   ],
   "source": [
    "bt = BertTokenizer.from_pretrained(\"vocab/vocab.txt\")"
   ]
  },
  {
   "cell_type": "code",
   "execution_count": null,
   "metadata": {},
   "outputs": [],
   "source": []
  }
 ],
 "metadata": {
  "kernelspec": {
   "display_name": "Python 3",
   "language": "python",
   "name": "python3"
  },
  "language_info": {
   "codemirror_mode": {
    "name": "ipython",
    "version": 3
   },
   "file_extension": ".py",
   "mimetype": "text/x-python",
   "name": "python",
   "nbconvert_exporter": "python",
   "pygments_lexer": "ipython3",
   "version": "3.8.5"
  },
  "toc": {
   "base_numbering": 1,
   "nav_menu": {},
   "number_sections": true,
   "sideBar": true,
   "skip_h1_title": false,
   "title_cell": "Table of Contents",
   "title_sidebar": "Contents",
   "toc_cell": false,
   "toc_position": {},
   "toc_section_display": true,
   "toc_window_display": false
  }
 },
 "nbformat": 4,
 "nbformat_minor": 4
}
